{
 "cells": [
  {
   "cell_type": "code",
   "execution_count": null,
   "id": "8ccde446",
   "metadata": {},
   "outputs": [],
   "source": [
    "import generate_surfaces\n",
    "import botorch\n",
    "import torch"
   ]
  },
  {
   "cell_type": "code",
   "execution_count": 6,
   "id": "92ee622b",
   "metadata": {},
   "outputs": [],
   "source": [
    "x = torch.linspace(0, 20, 400)"
   ]
  }
 ],
 "metadata": {
  "kernelspec": {
   "display_name": "bo-coli-PjAIl6Qh-py3.13",
   "language": "python",
   "name": "python3"
  },
  "language_info": {
   "codemirror_mode": {
    "name": "ipython",
    "version": 3
   },
   "file_extension": ".py",
   "mimetype": "text/x-python",
   "name": "python",
   "nbconvert_exporter": "python",
   "pygments_lexer": "ipython3",
   "version": "3.13.7"
  }
 },
 "nbformat": 4,
 "nbformat_minor": 5
}
