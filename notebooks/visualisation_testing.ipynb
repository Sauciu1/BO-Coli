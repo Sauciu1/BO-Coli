{
 "cells": [
  {
   "cell_type": "code",
   "execution_count": 1,
   "id": "8ccde446",
   "metadata": {},
   "outputs": [
    {
     "name": "stdout",
     "output_type": "stream",
     "text": [
      "Using font family: Brisbane Trial\n"
     ]
    }
   ],
   "source": [
    "from src.generate_surfaces import ResponseFunction, six_curve_sum\n",
    "import torch\n",
    "from ax import Client, RangeParameterConfig\n",
    "from src import BO_visuals"
   ]
  },
  {
   "cell_type": "markdown",
   "id": "80904aad",
   "metadata": {},
   "source": [
    "# Single prediction"
   ]
  },
  {
   "cell_type": "markdown",
   "id": "145d3c9c",
   "metadata": {},
   "source": [
    "## initialise response and client"
   ]
  },
  {
   "cell_type": "code",
   "execution_count": null,
   "id": "ab40aae8",
   "metadata": {},
   "outputs": [],
   "source": []
  },
  {
   "cell_type": "code",
   "execution_count": 2,
   "id": "92ee622b",
   "metadata": {},
   "outputs": [],
   "source": [
    "simple_func = lambda x: sum(x)\n",
    "\n",
    "resp = ResponseFunction(simple_func, 3)\n",
    "# 1. Initialize the Client.\n",
    "client = Client()\n",
    "\n"
   ]
  },
  {
   "cell_type": "markdown",
   "id": "16a06fd0",
   "metadata": {},
   "source": [
    "## configure the search domain"
   ]
  },
  {
   "cell_type": "code",
   "execution_count": 3,
   "id": "d3defc50",
   "metadata": {},
   "outputs": [],
   "source": [
    "# 2. Configure where Ax will search.\n",
    "client.configure_experiment(\n",
    "    name=\"booth_function\",\n",
    "    parameters=[\n",
    "        RangeParameterConfig(\n",
    "            name=f\"x{i}\",\n",
    "            bounds=(0, 20.0),\n",
    "            parameter_type=\"float\",\n",
    "        ) for i in range(3)\n",
    "    ],\n",
    ")"
   ]
  },
  {
   "cell_type": "code",
   "execution_count": 4,
   "id": "8fb3d319",
   "metadata": {},
   "outputs": [],
   "source": [
    "# 3. Configure a metric for Ax to target (see other Tutorials for adding constraints,\n",
    "# multiple objectives, tracking metrics etc.)\n",
    "client.configure_optimization(objective=\"booth\")"
   ]
  },
  {
   "cell_type": "code",
   "execution_count": 5,
   "id": "c8af56dc",
   "metadata": {},
   "outputs": [
    {
     "name": "stderr",
     "output_type": "stream",
     "text": [
      "[INFO 09-15 12:11:44] ax.api.client: GenerationStrategy(name='Center+Sobol+MBM:fast', nodes=[CenterGenerationNode(next_node_name='Sobol'), GenerationNode(node_name='Sobol', generator_specs=[GeneratorSpec(generator_enum=Sobol, model_key_override=None)], transition_criteria=[MinTrials(transition_to='MBM'), MinTrials(transition_to='MBM')]), GenerationNode(node_name='MBM', generator_specs=[GeneratorSpec(generator_enum=BoTorch, model_key_override=None)], transition_criteria=[])]) chosen based on user input and problem structure.\n",
      "[INFO 09-15 12:11:44] ax.api.client: Generated new trial 0 with parameters {'x0': 10.0, 'x1': 10.0, 'x2': 10.0} using GenerationNode CenterOfSearchSpace.\n",
      "[INFO 09-15 12:11:44] ax.api.client: Trial 0 marked COMPLETED.\n",
      "[INFO 09-15 12:11:44] ax.api.client: Generated new trial 1 with parameters {'x0': 16.371737, 'x1': 16.252646, 'x2': 15.461453} using GenerationNode Sobol.\n",
      "[INFO 09-15 12:11:44] ax.api.client: Trial 1 marked COMPLETED.\n",
      "[INFO 09-15 12:11:44] ax.api.client: Generated new trial 2 with parameters {'x0': 8.886926, 'x1': 2.314023, 'x2': 2.113169} using GenerationNode Sobol.\n",
      "[INFO 09-15 12:11:44] ax.api.client: Trial 2 marked COMPLETED.\n",
      "[INFO 09-15 12:11:44] ax.api.client: Generated new trial 3 with parameters {'x0': 0.424228, 'x1': 12.514733, 'x2': 11.412951} using GenerationNode Sobol.\n",
      "[INFO 09-15 12:11:44] ax.api.client: Trial 3 marked COMPLETED.\n",
      "[INFO 09-15 12:11:44] ax.api.client: Generated new trial 4 with parameters {'x0': 12.900493, 'x1': 8.566431, 'x2': 6.011215} using GenerationNode Sobol.\n",
      "[INFO 09-15 12:11:44] ax.api.client: Trial 4 marked COMPLETED.\n",
      "[INFO 09-15 12:11:44] ax.api.client: Generated new trial 5 with parameters {'x0': 20.0, 'x1': 19.774771, 'x2': 19.404006} using GenerationNode MBM.\n",
      "[INFO 09-15 12:11:44] ax.api.client: Trial 5 marked COMPLETED.\n",
      "[INFO 09-15 12:11:45] ax.api.client: Generated new trial 6 with parameters {'x0': 20.0, 'x1': 20.0, 'x2': 20.0} using GenerationNode MBM.\n",
      "[INFO 09-15 12:11:45] ax.api.client: Trial 6 marked COMPLETED.\n",
      "[INFO 09-15 12:11:45] ax.api.client: Generated new trial 7 with parameters {'x0': 20.0, 'x1': 12.971247, 'x2': 20.0} using GenerationNode MBM.\n",
      "[INFO 09-15 12:11:45] ax.api.client: Trial 7 marked COMPLETED.\n",
      "[INFO 09-15 12:11:46] ax.api.client: Generated new trial 8 with parameters {'x0': 20.0, 'x1': 20.0, 'x2': 16.878801} using GenerationNode MBM.\n",
      "[INFO 09-15 12:11:46] ax.api.client: Trial 8 marked COMPLETED.\n",
      "c:\\Users\\326po\\AppData\\Local\\pypoetry\\Cache\\virtualenvs\\bo-coli-wM2eEb6D-py3.13\\Lib\\site-packages\\linear_operator\\utils\\cholesky.py:40: NumericalWarning:\n",
      "\n",
      "A not p.d., added jitter of 1.0e-08 to the diagonal\n",
      "\n",
      "c:\\Users\\326po\\AppData\\Local\\pypoetry\\Cache\\virtualenvs\\bo-coli-wM2eEb6D-py3.13\\Lib\\site-packages\\linear_operator\\utils\\cholesky.py:40: NumericalWarning:\n",
      "\n",
      "A not p.d., added jitter of 1.0e-08 to the diagonal\n",
      "\n",
      "c:\\Users\\326po\\AppData\\Local\\pypoetry\\Cache\\virtualenvs\\bo-coli-wM2eEb6D-py3.13\\Lib\\site-packages\\linear_operator\\utils\\cholesky.py:40: NumericalWarning:\n",
      "\n",
      "A not p.d., added jitter of 1.0e-08 to the diagonal\n",
      "\n",
      "c:\\Users\\326po\\AppData\\Local\\pypoetry\\Cache\\virtualenvs\\bo-coli-wM2eEb6D-py3.13\\Lib\\site-packages\\linear_operator\\utils\\cholesky.py:40: NumericalWarning:\n",
      "\n",
      "A not p.d., added jitter of 1.0e-08 to the diagonal\n",
      "\n",
      "c:\\Users\\326po\\AppData\\Local\\pypoetry\\Cache\\virtualenvs\\bo-coli-wM2eEb6D-py3.13\\Lib\\site-packages\\linear_operator\\utils\\cholesky.py:40: NumericalWarning:\n",
      "\n",
      "A not p.d., added jitter of 1.0e-08 to the diagonal\n",
      "\n",
      "[WARNING 09-15 12:11:47] ax.generation_strategy.generation_node: gen failed with error GenerationStrategy exceeded `MAX_GEN_ATTEMPTS` of 5 while trying to generate a unique parameterization. This indicates that the search space has likely been fully explored, or that the sweep has converged., switching to fallback model with generator_enum Generators.SOBOL\n",
      "[INFO 09-15 12:11:47] ax.api.client: Generated new trial 9 with parameters {'x0': 14.38503, 'x1': 11.755283, 'x2': 16.173646} using GenerationNode MBM.\n",
      "[INFO 09-15 12:11:47] ax.api.client: Trial 9 marked COMPLETED.\n",
      "[INFO 09-15 12:11:49] ax.api.client: Generated new trial 10 with parameters {'x0': 18.597959, 'x1': 20.0, 'x2': 20.0} using GenerationNode MBM.\n",
      "[INFO 09-15 12:11:49] ax.api.client: Trial 10 marked COMPLETED.\n",
      "c:\\Users\\326po\\AppData\\Local\\pypoetry\\Cache\\virtualenvs\\bo-coli-wM2eEb6D-py3.13\\Lib\\site-packages\\linear_operator\\utils\\cholesky.py:40: NumericalWarning:\n",
      "\n",
      "A not p.d., added jitter of 1.0e-08 to the diagonal\n",
      "\n",
      "c:\\Users\\326po\\AppData\\Local\\pypoetry\\Cache\\virtualenvs\\bo-coli-wM2eEb6D-py3.13\\Lib\\site-packages\\linear_operator\\utils\\cholesky.py:40: NumericalWarning:\n",
      "\n",
      "A not p.d., added jitter of 1.0e-08 to the diagonal\n",
      "\n",
      "c:\\Users\\326po\\AppData\\Local\\pypoetry\\Cache\\virtualenvs\\bo-coli-wM2eEb6D-py3.13\\Lib\\site-packages\\linear_operator\\utils\\cholesky.py:40: NumericalWarning:\n",
      "\n",
      "A not p.d., added jitter of 1.0e-08 to the diagonal\n",
      "\n",
      "c:\\Users\\326po\\AppData\\Local\\pypoetry\\Cache\\virtualenvs\\bo-coli-wM2eEb6D-py3.13\\Lib\\site-packages\\linear_operator\\utils\\cholesky.py:40: NumericalWarning:\n",
      "\n",
      "A not p.d., added jitter of 1.0e-08 to the diagonal\n",
      "\n",
      "c:\\Users\\326po\\AppData\\Local\\pypoetry\\Cache\\virtualenvs\\bo-coli-wM2eEb6D-py3.13\\Lib\\site-packages\\linear_operator\\utils\\cholesky.py:40: NumericalWarning:\n",
      "\n",
      "A not p.d., added jitter of 1.0e-08 to the diagonal\n",
      "\n",
      "[WARNING 09-15 12:11:50] ax.generation_strategy.generation_node: gen failed with error GenerationStrategy exceeded `MAX_GEN_ATTEMPTS` of 5 while trying to generate a unique parameterization. This indicates that the search space has likely been fully explored, or that the sweep has converged., switching to fallback model with generator_enum Generators.SOBOL\n",
      "[INFO 09-15 12:11:50] ax.api.client: Generated new trial 11 with parameters {'x0': 2.905853, 'x1': 6.873872, 'x2': 4.201231} using GenerationNode MBM.\n",
      "[INFO 09-15 12:11:50] ax.api.client: Trial 11 marked COMPLETED.\n",
      "[WARNING 09-15 12:11:52] ax.generation_strategy.generation_node: gen failed with error GenerationStrategy exceeded `MAX_GEN_ATTEMPTS` of 5 while trying to generate a unique parameterization. This indicates that the search space has likely been fully explored, or that the sweep has converged., switching to fallback model with generator_enum Generators.SOBOL\n",
      "[INFO 09-15 12:11:52] ax.api.client: Generated new trial 12 with parameters {'x0': 7.941221, 'x1': 16.807326, 'x2': 13.507313} using GenerationNode MBM.\n",
      "[INFO 09-15 12:11:52] ax.api.client: Trial 12 marked COMPLETED.\n",
      "c:\\Users\\326po\\AppData\\Local\\pypoetry\\Cache\\virtualenvs\\bo-coli-wM2eEb6D-py3.13\\Lib\\site-packages\\linear_operator\\utils\\cholesky.py:40: NumericalWarning:\n",
      "\n",
      "A not p.d., added jitter of 1.0e-08 to the diagonal\n",
      "\n",
      "c:\\Users\\326po\\AppData\\Local\\pypoetry\\Cache\\virtualenvs\\bo-coli-wM2eEb6D-py3.13\\Lib\\site-packages\\linear_operator\\utils\\cholesky.py:40: NumericalWarning:\n",
      "\n",
      "A not p.d., added jitter of 1.0e-08 to the diagonal\n",
      "\n",
      "c:\\Users\\326po\\AppData\\Local\\pypoetry\\Cache\\virtualenvs\\bo-coli-wM2eEb6D-py3.13\\Lib\\site-packages\\linear_operator\\utils\\cholesky.py:40: NumericalWarning:\n",
      "\n",
      "A not p.d., added jitter of 1.0e-08 to the diagonal\n",
      "\n",
      "c:\\Users\\326po\\AppData\\Local\\pypoetry\\Cache\\virtualenvs\\bo-coli-wM2eEb6D-py3.13\\Lib\\site-packages\\linear_operator\\utils\\cholesky.py:40: NumericalWarning:\n",
      "\n",
      "A not p.d., added jitter of 1.0e-08 to the diagonal\n",
      "\n",
      "c:\\Users\\326po\\AppData\\Local\\pypoetry\\Cache\\virtualenvs\\bo-coli-wM2eEb6D-py3.13\\Lib\\site-packages\\linear_operator\\utils\\cholesky.py:40: NumericalWarning:\n",
      "\n",
      "A not p.d., added jitter of 1.0e-08 to the diagonal\n",
      "\n",
      "[WARNING 09-15 12:11:54] ax.generation_strategy.generation_node: gen failed with error GenerationStrategy exceeded `MAX_GEN_ATTEMPTS` of 5 while trying to generate a unique parameterization. This indicates that the search space has likely been fully explored, or that the sweep has converged., switching to fallback model with generator_enum Generators.SOBOL\n",
      "[INFO 09-15 12:11:54] ax.api.client: Generated new trial 13 with parameters {'x0': 19.430219, 'x1': 1.77056, 'x2': 6.730831} using GenerationNode MBM.\n",
      "[INFO 09-15 12:11:54] ax.api.client: Trial 13 marked COMPLETED.\n",
      "c:\\Users\\326po\\AppData\\Local\\pypoetry\\Cache\\virtualenvs\\bo-coli-wM2eEb6D-py3.13\\Lib\\site-packages\\linear_operator\\utils\\cholesky.py:40: NumericalWarning:\n",
      "\n",
      "A not p.d., added jitter of 1.0e-08 to the diagonal\n",
      "\n",
      "c:\\Users\\326po\\AppData\\Local\\pypoetry\\Cache\\virtualenvs\\bo-coli-wM2eEb6D-py3.13\\Lib\\site-packages\\linear_operator\\utils\\cholesky.py:40: NumericalWarning:\n",
      "\n",
      "A not p.d., added jitter of 1.0e-08 to the diagonal\n",
      "\n",
      "c:\\Users\\326po\\AppData\\Local\\pypoetry\\Cache\\virtualenvs\\bo-coli-wM2eEb6D-py3.13\\Lib\\site-packages\\linear_operator\\utils\\cholesky.py:40: NumericalWarning:\n",
      "\n",
      "A not p.d., added jitter of 1.0e-08 to the diagonal\n",
      "\n",
      "c:\\Users\\326po\\AppData\\Local\\pypoetry\\Cache\\virtualenvs\\bo-coli-wM2eEb6D-py3.13\\Lib\\site-packages\\linear_operator\\utils\\cholesky.py:40: NumericalWarning:\n",
      "\n",
      "A not p.d., added jitter of 1.0e-08 to the diagonal\n",
      "\n",
      "c:\\Users\\326po\\AppData\\Local\\pypoetry\\Cache\\virtualenvs\\bo-coli-wM2eEb6D-py3.13\\Lib\\site-packages\\linear_operator\\utils\\cholesky.py:40: NumericalWarning:\n",
      "\n",
      "A not p.d., added jitter of 1.0e-08 to the diagonal\n",
      "\n",
      "[WARNING 09-15 12:11:56] ax.generation_strategy.generation_node: gen failed with error GenerationStrategy exceeded `MAX_GEN_ATTEMPTS` of 5 while trying to generate a unique parameterization. This indicates that the search space has likely been fully explored, or that the sweep has converged., switching to fallback model with generator_enum Generators.SOBOL\n",
      "[INFO 09-15 12:11:56] ax.api.client: Generated new trial 14 with parameters {'x0': 15.146318, 'x1': 18.257415, 'x2': 1.852409} using GenerationNode MBM.\n",
      "[INFO 09-15 12:11:56] ax.api.client: Trial 14 marked COMPLETED.\n",
      "[WARNING 09-15 12:11:58] ax.generation_strategy.generation_node: gen failed with error GenerationStrategy exceeded `MAX_GEN_ATTEMPTS` of 5 while trying to generate a unique parameterization. This indicates that the search space has likely been fully explored, or that the sweep has converged., switching to fallback model with generator_enum Generators.SOBOL\n",
      "[INFO 09-15 12:11:58] ax.api.client: Generated new trial 15 with parameters {'x0': 7.250461, 'x1': 3.142737, 'x2': 18.551841} using GenerationNode MBM.\n",
      "[INFO 09-15 12:11:58] ax.api.client: Trial 15 marked COMPLETED.\n",
      "c:\\Users\\326po\\AppData\\Local\\pypoetry\\Cache\\virtualenvs\\bo-coli-wM2eEb6D-py3.13\\Lib\\site-packages\\linear_operator\\utils\\cholesky.py:40: NumericalWarning:\n",
      "\n",
      "A not p.d., added jitter of 1.0e-08 to the diagonal\n",
      "\n",
      "c:\\Users\\326po\\AppData\\Local\\pypoetry\\Cache\\virtualenvs\\bo-coli-wM2eEb6D-py3.13\\Lib\\site-packages\\linear_operator\\utils\\cholesky.py:40: NumericalWarning:\n",
      "\n",
      "A not p.d., added jitter of 1.0e-08 to the diagonal\n",
      "\n",
      "c:\\Users\\326po\\AppData\\Local\\pypoetry\\Cache\\virtualenvs\\bo-coli-wM2eEb6D-py3.13\\Lib\\site-packages\\linear_operator\\utils\\cholesky.py:40: NumericalWarning:\n",
      "\n",
      "A not p.d., added jitter of 1.0e-08 to the diagonal\n",
      "\n",
      "c:\\Users\\326po\\AppData\\Local\\pypoetry\\Cache\\virtualenvs\\bo-coli-wM2eEb6D-py3.13\\Lib\\site-packages\\linear_operator\\utils\\cholesky.py:40: NumericalWarning:\n",
      "\n",
      "A not p.d., added jitter of 1.0e-08 to the diagonal\n",
      "\n",
      "c:\\Users\\326po\\AppData\\Local\\pypoetry\\Cache\\virtualenvs\\bo-coli-wM2eEb6D-py3.13\\Lib\\site-packages\\linear_operator\\utils\\cholesky.py:40: NumericalWarning:\n",
      "\n",
      "A not p.d., added jitter of 1.0e-08 to the diagonal\n",
      "\n",
      "[WARNING 09-15 12:12:00] ax.generation_strategy.generation_node: gen failed with error GenerationStrategy exceeded `MAX_GEN_ATTEMPTS` of 5 while trying to generate a unique parameterization. This indicates that the search space has likely been fully explored, or that the sweep has converged., switching to fallback model with generator_enum Generators.SOBOL\n",
      "[INFO 09-15 12:12:00] ax.api.client: Generated new trial 16 with parameters {'x0': 2.21508, 'x1': 13.194712, 'x2': 9.08843} using GenerationNode MBM.\n",
      "[INFO 09-15 12:12:00] ax.api.client: Trial 16 marked COMPLETED.\n",
      "[WARNING 09-15 12:12:02] ax.generation_strategy.generation_node: gen failed with error GenerationStrategy exceeded `MAX_GEN_ATTEMPTS` of 5 while trying to generate a unique parameterization. This indicates that the search space has likely been fully explored, or that the sweep has converged., switching to fallback model with generator_enum Generators.SOBOL\n",
      "[INFO 09-15 12:12:02] ax.api.client: Generated new trial 17 with parameters {'x0': 10.101122, 'x1': 8.237178, 'x2': 11.140025} using GenerationNode MBM.\n",
      "[INFO 09-15 12:12:02] ax.api.client: Trial 17 marked COMPLETED.\n",
      "c:\\Users\\326po\\AppData\\Local\\pypoetry\\Cache\\virtualenvs\\bo-coli-wM2eEb6D-py3.13\\Lib\\site-packages\\linear_operator\\utils\\cholesky.py:40: NumericalWarning:\n",
      "\n",
      "A not p.d., added jitter of 1.0e-08 to the diagonal\n",
      "\n",
      "c:\\Users\\326po\\AppData\\Local\\pypoetry\\Cache\\virtualenvs\\bo-coli-wM2eEb6D-py3.13\\Lib\\site-packages\\linear_operator\\utils\\cholesky.py:40: NumericalWarning:\n",
      "\n",
      "A not p.d., added jitter of 1.0e-08 to the diagonal\n",
      "\n",
      "c:\\Users\\326po\\AppData\\Local\\pypoetry\\Cache\\virtualenvs\\bo-coli-wM2eEb6D-py3.13\\Lib\\site-packages\\linear_operator\\utils\\cholesky.py:40: NumericalWarning:\n",
      "\n",
      "A not p.d., added jitter of 1.0e-08 to the diagonal\n",
      "\n",
      "c:\\Users\\326po\\AppData\\Local\\pypoetry\\Cache\\virtualenvs\\bo-coli-wM2eEb6D-py3.13\\Lib\\site-packages\\linear_operator\\utils\\cholesky.py:40: NumericalWarning:\n",
      "\n",
      "A not p.d., added jitter of 1.0e-08 to the diagonal\n",
      "\n",
      "c:\\Users\\326po\\AppData\\Local\\pypoetry\\Cache\\virtualenvs\\bo-coli-wM2eEb6D-py3.13\\Lib\\site-packages\\linear_operator\\utils\\cholesky.py:40: NumericalWarning:\n",
      "\n",
      "A not p.d., added jitter of 1.0e-08 to the diagonal\n",
      "\n",
      "[WARNING 09-15 12:12:04] ax.generation_strategy.generation_node: gen failed with error GenerationStrategy exceeded `MAX_GEN_ATTEMPTS` of 5 while trying to generate a unique parameterization. This indicates that the search space has likely been fully explored, or that the sweep has converged., switching to fallback model with generator_enum Generators.SOBOL\n",
      "[INFO 09-15 12:12:04] ax.api.client: Generated new trial 18 with parameters {'x0': 12.119859, 'x1': 15.109707, 'x2': 8.333256} using GenerationNode MBM.\n",
      "[INFO 09-15 12:12:04] ax.api.client: Trial 18 marked COMPLETED.\n",
      "[WARNING 09-15 12:12:06] ax.generation_strategy.generation_node: gen failed with error GenerationStrategy exceeded `MAX_GEN_ATTEMPTS` of 5 while trying to generate a unique parameterization. This indicates that the search space has likely been fully explored, or that the sweep has converged., switching to fallback model with generator_enum Generators.SOBOL\n",
      "[INFO 09-15 12:12:06] ax.api.client: Generated new trial 19 with parameters {'x0': 0.484431, 'x1': 0.072182, 'x2': 11.282115} using GenerationNode MBM.\n",
      "[INFO 09-15 12:12:06] ax.api.client: Trial 19 marked COMPLETED.\n"
     ]
    },
    {
     "data": {
      "text/plain": [
       "({'x0': 20.0, 'x1': 20.0, 'x2': 20.0}, {'booth': (60.0, nan)}, 6, '6_0')"
      ]
     },
     "execution_count": 5,
     "metadata": {},
     "output_type": "execute_result"
    }
   ],
   "source": [
    "# 4. Conduct the experiment with 20 trials: get each trial from Ax, evaluate the\n",
    "# objective function, and log data back to Ax.\n",
    "for _ in range(20):\n",
    "    # Use higher value of `max_trials` to run trials in parallel.\n",
    "    for trial_index, parameters in client.get_next_trials(max_trials=1).items():\n",
    "        coordinates = torch.tensor(\n",
    "            [[parameters[f\"x{i}\"]] for i in range(3)], dtype=torch.float32\n",
    "        )\n",
    "        #print(coordinates)\n",
    "        #print(resp.evaluate(coordinates)[0])\n",
    "\n",
    "        client.complete_trial(\n",
    "            trial_index=trial_index,\n",
    "            raw_data={\n",
    "            \"booth\": resp.evaluate(coordinates)[0].item()\n",
    "            },\n",
    "        )\n",
    "\n",
    "# 5. Obtain the best-performing configuration; the true minimum for the booth\n",
    "\n",
    "client.get_best_parameterization()"
   ]
  },
  {
   "cell_type": "code",
   "execution_count": null,
   "id": "b872089d",
   "metadata": {},
   "outputs": [
    {
     "name": "stdout",
     "output_type": "stream",
     "text": [
      "Results DataFrame:\n",
      "           x0         x1         x2   response\n",
      "0   10.000000  10.000000  10.000000  30.000000\n",
      "1   16.371737  16.252646  15.461453  48.085835\n",
      "2    8.886926   2.314023   2.113169  13.314117\n",
      "3    0.424228  12.514733  11.412951  24.351912\n",
      "4   12.900493   8.566431   6.011215  27.478140\n",
      "5   20.000000  19.774771  19.404006  59.178780\n",
      "6   20.000000  20.000000  20.000000  60.000000\n",
      "7   20.000000  12.971247  20.000000  52.971245\n",
      "8   20.000000  20.000000  16.878801  56.878799\n",
      "9   14.385030  11.755283  16.173646  42.313961\n",
      "10  18.597959  20.000000  20.000000  58.597961\n",
      "11   2.905853   6.873872   4.201231  13.980956\n",
      "12   7.941221  16.807326  13.507313  38.255859\n",
      "13  19.430219   1.770560   6.730831  27.931610\n",
      "14  15.146318  18.257415   1.852409  35.256142\n",
      "15   7.250461   3.142737  18.551841  28.945040\n",
      "16   2.215080  13.194712   9.088430  24.498222\n",
      "17  10.101122   8.237178  11.140025  29.478325\n",
      "18  12.119859  15.109707   8.333256  35.562820\n",
      "19   0.484431   0.072182  11.282115  11.838728\n"
     ]
    }
   ],
   "source": [
    "import pandas as pd\n",
    "from BO_visuals import GPVisualiser\n",
    "\n",
    "\n",
    "print(\"Results DataFrame:\")\n",
    "print(GPVisualiser.get_obs_from_client(client))\n",
    "results = GPVisualiser.get_obs_from_client(client)"
   ]
  },
  {
   "cell_type": "code",
   "execution_count": 7,
   "id": "cafb266b",
   "metadata": {},
   "outputs": [],
   "source": [
    "from math import floor\n",
    "from botorch.models import SingleTaskGP\n",
    "from botorch.fit import fit_gpytorch_mll_torch\n",
    "from gpytorch.mlls import ExactMarginalLogLikelihood\n",
    "from torch._tensor import Tensor\n",
    "import importlib\n",
    "import math\n",
    "import seaborn as sns\n",
    "\n",
    "import matplotlib.pyplot as plt"
   ]
  },
  {
   "cell_type": "code",
   "execution_count": 8,
   "id": "0e2af0ee",
   "metadata": {},
   "outputs": [
    {
     "name": "stdout",
     "output_type": "stream",
     "text": [
      "Using matplotlib backend: module://matplotlib_inline.backend_inline\n"
     ]
    }
   ],
   "source": [
    "%matplotlib\n",
    "%matplotlib notebook\n",
    "%matplotlib inline"
   ]
  },
  {
   "cell_type": "code",
   "execution_count": null,
   "id": "4ef8afc4",
   "metadata": {},
   "outputs": [
    {
     "data": {
      "text/plain": [
       "<module 'importlib' from 'C:\\\\Users\\\\326po\\\\AppData\\\\Local\\\\Programs\\\\Python\\\\Python313\\\\Lib\\\\importlib\\\\__init__.py'>"
      ]
     },
     "execution_count": 9,
     "metadata": {},
     "output_type": "execute_result"
    }
   ],
   "source": [
    "importlib.reload(GPVisualiser)  # Reload to get latest changes\n",
    "importlib"
   ]
  },
  {
   "cell_type": "code",
   "execution_count": null,
   "id": "ca696da4",
   "metadata": {},
   "outputs": [
    {
     "ename": "NameError",
     "evalue": "name 'gp' is not defined",
     "output_type": "error",
     "traceback": [
      "\u001b[31m---------------------------------------------------------------------------\u001b[39m",
      "\u001b[31mNameError\u001b[39m                                 Traceback (most recent call last)",
      "\u001b[36mCell\u001b[39m\u001b[36m \u001b[39m\u001b[32mIn[10]\u001b[39m\u001b[32m, line 76\u001b[39m\n\u001b[32m     73\u001b[39m     \u001b[38;5;28;01mcontinue\u001b[39;00m  \u001b[38;5;66;03m# Skip to later points for more interesting plots\u001b[39;00m\n\u001b[32m     75\u001b[39m coordinates = [point.x0, point.x1, point.x2]\n\u001b[32m---> \u001b[39m\u001b[32m76\u001b[39m plt_gp_all_dims_plotly(\u001b[43mgp\u001b[49m, results, coordinates)\n",
      "\u001b[31mNameError\u001b[39m: name 'gp' is not defined"
     ]
    }
   ],
   "source": [
    "import plotly.graph_objects as go\n",
    "\n",
    "def plt_gp_along_dimension_plotly(grid: Tensor, mean: Tensor, std: Tensor, results: pd.DataFrame, dim_name: str, coordinates, point_size):\n",
    "    \"\"\"Plot GP mean and confidence intervals along a single dimension using Plotly.\"\"\"\n",
    "    fig = go.Figure()\n",
    "\n",
    "    # GP mean line\n",
    "    fig.add_trace(go.Scatter(\n",
    "        x=grid.numpy(),\n",
    "        y=mean,\n",
    "        mode='lines',\n",
    "        name='GP mean'\n",
    "    ))\n",
    "\n",
    "    # Confidence interval\n",
    "    fig.add_trace(go.Scatter(\n",
    "        x=np.concatenate([grid.numpy(), grid.numpy()[::-1]]),\n",
    "        y=np.concatenate([mean - 2*std, (mean + 2*std)[::-1]]),\n",
    "        fill='toself',\n",
    "        fillcolor='rgba(0,100,80,0.2)',\n",
    "        line=dict(color='rgba(255,255,255,0)'),\n",
    "        hoverinfo=\"skip\",\n",
    "        showlegend=True,\n",
    "        name='95% CI'\n",
    "    ))\n",
    "\n",
    "    # Guesses\n",
    "    fig.add_trace(go.Scatter(\n",
    "        x=results[dim_name],\n",
    "        y=results['response'],\n",
    "        mode='markers',\n",
    "        marker=dict(color='red', size=point_size),\n",
    "        name='Guesses'\n",
    "    ))\n",
    "\n",
    "    # Current Point\n",
    "    fig.add_trace(go.Scatter(\n",
    "        x=[coordinates[dim_name]],\n",
    "        y=[simple_func(coordinates)],\n",
    "        mode='markers',\n",
    "        marker=dict(color='blue', size=14, symbol='x'),\n",
    "        name='Current Point'\n",
    "    ))\n",
    "\n",
    "    fig.update_layout(\n",
    "        title=f'GP along {dim_name} at point {coordinates}',\n",
    "        xaxis_title=dim_name,\n",
    "        yaxis_title='Response',\n",
    "        legend=dict(x=1.05, y=0.5)\n",
    "    )\n",
    "    return fig\n",
    "\n",
    "def plt_gp_all_dims_plotly(gp: SingleTaskGP, results_df: pd.DataFrame, coordinates: list[float]|Tensor):\n",
    "    coordinates = coordinates.numpy() if isinstance(coordinates, Tensor) else coordinates\n",
    "    dim_names = [col for col in results_df.columns if col != 'response']\n",
    "\n",
    "    for i, dim_name in enumerate(dim_names):\n",
    "        grid = torch.linspace(0, 20, 100)\n",
    "        mean, std = GPVisualiser.get_plane_gaussian_for_point(gp, coordinates, fixed_dim=i, grid=grid)\n",
    "\n",
    "        distances = [get_euclidean_distance(coordinates, row[:-1]) for row in results_df.to_numpy()]\n",
    "        point_size = [(1 - d / max(distances)) * 20 + 8 for d in distances]  # Scale sizes\n",
    "\n",
    "        fig = plt_gp_along_dimension_plotly(grid, mean, std, results_df, dim_name, coordinates, point_size)\n",
    "        fig.show()\n",
    "\n",
    "for point in results.itertuples():\n",
    "    if point.Index < 18:\n",
    "        continue  # Skip to later points for more interesting plots\n",
    "\n",
    "    coordinates = [point.x0, point.x1, point.x2]\n",
    "    plt_gp_all_dims_plotly(gp, results, coordinates)\n",
    "\n"
   ]
  }
 ],
 "metadata": {
  "kernelspec": {
   "display_name": "bo-coli-wM2eEb6D-py3.13",
   "language": "python",
   "name": "python3"
  },
  "language_info": {
   "codemirror_mode": {
    "name": "ipython",
    "version": 3
   },
   "file_extension": ".py",
   "mimetype": "text/x-python",
   "name": "python",
   "nbconvert_exporter": "python",
   "pygments_lexer": "ipython3",
   "version": "3.13.7"
  }
 },
 "nbformat": 4,
 "nbformat_minor": 5
}
