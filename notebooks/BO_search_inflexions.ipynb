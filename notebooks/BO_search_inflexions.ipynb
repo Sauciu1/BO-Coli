{
 "cells": [
  {
   "cell_type": "markdown",
   "id": "1f54f77c",
   "metadata": {},
   "source": [
    "The goal of this notebook is to compare whether BO would be able to identify data splits just as fast as binary split"
   ]
  },
  {
   "cell_type": "code",
   "execution_count": 1,
   "id": "a03ad48c",
   "metadata": {},
   "outputs": [
    {
     "ename": "ImportError",
     "evalue": "cannot import name 'botorch' from 'torch' (c:\\GITHUB\\BO-Coli\\.venv\\Lib\\site-packages\\torch\\__init__.py)",
     "output_type": "error",
     "traceback": [
      "\u001b[31m---------------------------------------------------------------------------\u001b[39m",
      "\u001b[31mImportError\u001b[39m                               Traceback (most recent call last)",
      "\u001b[36mCell\u001b[39m\u001b[36m \u001b[39m\u001b[32mIn[1]\u001b[39m\u001b[32m, line 1\u001b[39m\n\u001b[32m----> \u001b[39m\u001b[32m1\u001b[39m \u001b[38;5;28;01mfrom\u001b[39;00m\u001b[38;5;250m \u001b[39m\u001b[34;01mtorch\u001b[39;00m\u001b[38;5;250m \u001b[39m\u001b[38;5;28;01mimport\u001b[39;00m botorch\n",
      "\u001b[31mImportError\u001b[39m: cannot import name 'botorch' from 'torch' (c:\\GITHUB\\BO-Coli\\.venv\\Lib\\site-packages\\torch\\__init__.py)"
     ]
    }
   ],
   "source": [
    "from torch import botorch"
   ]
  }
 ],
 "metadata": {
  "kernelspec": {
   "display_name": "bo-coli-py3.13",
   "language": "python",
   "name": "python3"
  },
  "language_info": {
   "codemirror_mode": {
    "name": "ipython",
    "version": 3
   },
   "file_extension": ".py",
   "mimetype": "text/x-python",
   "name": "python",
   "nbconvert_exporter": "python",
   "pygments_lexer": "ipython3",
   "version": "3.13.5"
  }
 },
 "nbformat": 4,
 "nbformat_minor": 5
}
