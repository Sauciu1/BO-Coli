{
 "cells": [
  {
   "cell_type": "markdown",
   "id": "1f54f77c",
   "metadata": {},
   "source": [
    "The goal of this notebook is to compare whether BO would be able to identify data splits just as fast as binary split"
   ]
  }
 ],
 "metadata": {
  "language_info": {
   "name": "python"
  }
 },
 "nbformat": 4,
 "nbformat_minor": 5
}
