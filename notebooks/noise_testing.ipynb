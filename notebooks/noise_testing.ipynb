{
 "cells": [
  {
   "cell_type": "code",
   "execution_count": null,
   "id": "ec2a51b3",
   "metadata": {},
   "outputs": [],
   "source": [
    "\n",
    "from botorch.models import SingleTaskGP\n",
    "from botorch.acquisition import qLogExpectedImprovement, qMaxValueEntropy\n",
    "\n",
    "from gpytorch.kernels import MaternKernel\n",
    "from botorch.models import SingleTaskGP\n",
    "from ax.generators.torch.botorch_modular.surrogate import SurrogateSpec, ModelConfig\n",
    "\n",
    "surrogate_spec = SurrogateSpec(\n",
    "    model_configs=[\n",
    "        ModelConfig(\n",
    "            botorch_model_class=SingleTaskGP,\n",
    "        ),\n",
    "    ]\n",
    ")\n",
    "\n",
    "generator_spec = GeneratorSpec(\n",
    "    generator_enum=Generators.BOTORCH_MODULAR,\n",
    "    model_kwargs={\n",
    "        \"surrogate_spec\": surrogate_spec,\n",
    "        \"botorch_acqf_class\": qLogExpectedImprovement,\n",
    "        # Can be used for additional inputs that are not constructed\n",
    "        # by default in Ax. We will demonstrate below.\n",
    "        \"acquisition_options\": {},\n",
    "    },\n",
    "    # We can specify various options for the optimizer here.\n",
    "    model_gen_kwargs = {\n",
    "        \"model_gen_options\": {\n",
    "            \"optimizer_kwargs\": {\n",
    "                \"num_restarts\": 20,\n",
    "                \"sequential\": False,\n",
    "                \"options\": {\n",
    "                    \"batch_limit\": 5,\n",
    "                    \"maxiter\": 200,\n",
    "                },\n",
    "            },\n",
    "        },\n",
    "    }\n",
    ")\n",
    "\n",
    "\n",
    "generation_strategy = construct_generation_strategy(\n",
    "    generator_spec=generator_spec,\n",
    "    node_name=\"SingleTakGP, LogEI\",\n",
    ")\n",
    "\n",
    "generation_strategy"
   ]
  }
 ],
 "metadata": {
  "language_info": {
   "name": "python"
  }
 },
 "nbformat": 4,
 "nbformat_minor": 5
}
